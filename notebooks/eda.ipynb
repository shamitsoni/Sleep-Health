{
 "cells": [
  {
   "cell_type": "markdown",
   "id": "910e7baa",
   "metadata": {},
   "source": [
    "# Setup\n",
    "Import python libraries\n"
   ]
  },
  {
   "cell_type": "code",
   "execution_count": 63,
   "id": "4b39e60e",
   "metadata": {},
   "outputs": [],
   "source": [
    "import pandas as pd\n",
    "import matplotlib.pyplot as plt\n",
    "import seaborn as sns"
   ]
  },
  {
   "cell_type": "markdown",
   "id": "34ec01e0",
   "metadata": {},
   "source": [
    "# Load Dataset\n",
    "Create Pandas dataframe and load sleep health dataset from CSV"
   ]
  },
  {
   "cell_type": "code",
   "execution_count": 64,
   "id": "41a25076",
   "metadata": {},
   "outputs": [
    {
     "data": {
      "text/html": [
       "<div>\n",
       "<style scoped>\n",
       "    .dataframe tbody tr th:only-of-type {\n",
       "        vertical-align: middle;\n",
       "    }\n",
       "\n",
       "    .dataframe tbody tr th {\n",
       "        vertical-align: top;\n",
       "    }\n",
       "\n",
       "    .dataframe thead th {\n",
       "        text-align: right;\n",
       "    }\n",
       "</style>\n",
       "<table border=\"1\" class=\"dataframe\">\n",
       "  <thead>\n",
       "    <tr style=\"text-align: right;\">\n",
       "      <th></th>\n",
       "      <th>person_id</th>\n",
       "      <th>gender</th>\n",
       "      <th>age</th>\n",
       "      <th>occupation</th>\n",
       "      <th>sleep_duration</th>\n",
       "      <th>quality_of_sleep</th>\n",
       "      <th>physical_activity_level</th>\n",
       "      <th>stress_level</th>\n",
       "      <th>bmi_category</th>\n",
       "      <th>blood_pressure</th>\n",
       "      <th>heart_rate</th>\n",
       "      <th>daily_steps</th>\n",
       "      <th>sleep_disorder</th>\n",
       "    </tr>\n",
       "  </thead>\n",
       "  <tbody>\n",
       "    <tr>\n",
       "      <th>0</th>\n",
       "      <td>1</td>\n",
       "      <td>Male</td>\n",
       "      <td>27</td>\n",
       "      <td>Software Engineer</td>\n",
       "      <td>6.1</td>\n",
       "      <td>6</td>\n",
       "      <td>42</td>\n",
       "      <td>6</td>\n",
       "      <td>Overweight</td>\n",
       "      <td>126/83</td>\n",
       "      <td>77</td>\n",
       "      <td>4200</td>\n",
       "      <td>NaN</td>\n",
       "    </tr>\n",
       "    <tr>\n",
       "      <th>1</th>\n",
       "      <td>2</td>\n",
       "      <td>Male</td>\n",
       "      <td>28</td>\n",
       "      <td>Doctor</td>\n",
       "      <td>6.2</td>\n",
       "      <td>6</td>\n",
       "      <td>60</td>\n",
       "      <td>8</td>\n",
       "      <td>Normal</td>\n",
       "      <td>125/80</td>\n",
       "      <td>75</td>\n",
       "      <td>10000</td>\n",
       "      <td>NaN</td>\n",
       "    </tr>\n",
       "    <tr>\n",
       "      <th>2</th>\n",
       "      <td>3</td>\n",
       "      <td>Male</td>\n",
       "      <td>28</td>\n",
       "      <td>Doctor</td>\n",
       "      <td>6.2</td>\n",
       "      <td>6</td>\n",
       "      <td>60</td>\n",
       "      <td>8</td>\n",
       "      <td>Normal</td>\n",
       "      <td>125/80</td>\n",
       "      <td>75</td>\n",
       "      <td>10000</td>\n",
       "      <td>NaN</td>\n",
       "    </tr>\n",
       "    <tr>\n",
       "      <th>3</th>\n",
       "      <td>4</td>\n",
       "      <td>Male</td>\n",
       "      <td>28</td>\n",
       "      <td>Sales Representative</td>\n",
       "      <td>5.9</td>\n",
       "      <td>4</td>\n",
       "      <td>30</td>\n",
       "      <td>8</td>\n",
       "      <td>Obese</td>\n",
       "      <td>140/90</td>\n",
       "      <td>85</td>\n",
       "      <td>3000</td>\n",
       "      <td>Sleep Apnea</td>\n",
       "    </tr>\n",
       "    <tr>\n",
       "      <th>4</th>\n",
       "      <td>5</td>\n",
       "      <td>Male</td>\n",
       "      <td>28</td>\n",
       "      <td>Sales Representative</td>\n",
       "      <td>5.9</td>\n",
       "      <td>4</td>\n",
       "      <td>30</td>\n",
       "      <td>8</td>\n",
       "      <td>Obese</td>\n",
       "      <td>140/90</td>\n",
       "      <td>85</td>\n",
       "      <td>3000</td>\n",
       "      <td>Sleep Apnea</td>\n",
       "    </tr>\n",
       "  </tbody>\n",
       "</table>\n",
       "</div>"
      ],
      "text/plain": [
       "   person_id gender  age            occupation  sleep_duration  \\\n",
       "0          1   Male   27     Software Engineer             6.1   \n",
       "1          2   Male   28                Doctor             6.2   \n",
       "2          3   Male   28                Doctor             6.2   \n",
       "3          4   Male   28  Sales Representative             5.9   \n",
       "4          5   Male   28  Sales Representative             5.9   \n",
       "\n",
       "   quality_of_sleep  physical_activity_level  stress_level bmi_category  \\\n",
       "0                 6                       42             6   Overweight   \n",
       "1                 6                       60             8       Normal   \n",
       "2                 6                       60             8       Normal   \n",
       "3                 4                       30             8        Obese   \n",
       "4                 4                       30             8        Obese   \n",
       "\n",
       "  blood_pressure  heart_rate  daily_steps sleep_disorder  \n",
       "0         126/83          77         4200            NaN  \n",
       "1         125/80          75        10000            NaN  \n",
       "2         125/80          75        10000            NaN  \n",
       "3         140/90          85         3000    Sleep Apnea  \n",
       "4         140/90          85         3000    Sleep Apnea  "
      ]
     },
     "execution_count": 64,
     "metadata": {},
     "output_type": "execute_result"
    }
   ],
   "source": [
    "df = pd.read_csv(\"../data/sleep_health_clean.csv\")\n",
    "\n",
    "# Preview first 5 rows of data\n",
    "df.head()"
   ]
  },
  {
   "cell_type": "markdown",
   "id": "6d6feaef",
   "metadata": {},
   "source": [
    "# Dataset Dictionary\n",
    "Provide details of each measured variable\n",
    "\n",
    "| Feature          | Description                                 |\n",
    "|------------------|---------------------------------------------|\n",
    "| person_id              | The unique identifier of the participant             |\n",
    "| gender           | The gender of the participant (Male/Female)                  |\n",
    "| age   | The age of the participant in years           |\n",
    "| occupation              | The job or profession of the participant  \n",
    "| sleep_duration | The number of hours the participant sleeps each day                                       |\n",
    "| quality_of_sleep | The subjective rating (scale of 1-10) of the participant's sleep experience |\n",
    "| physical_activity_level | The number of minutes the participant spends in daily activity |\n",
    "| stress_level | The subjective rating (scale of 1-10) of the participant's stress level |\n",
    "| bmi_category | The BMI level of the participant (Underweight/Normal/Overweight) |\n",
    "| blood_pressure | The blood pressure measurement of the participant (Systolic over Diastolic)\n",
    "| heart_rate | The resting heart rate of the participant in beats/minute |\n",
    "| daily_steps | The number of steps the participant takes daily |\n",
    "| sleep_disorder | The sleep disorder of the participant if present (Nullable) |"
   ]
  },
  {
   "cell_type": "markdown",
   "id": "0f3aa116",
   "metadata": {},
   "source": [
    "# Data Types\n",
    "View columns types and null values\n"
   ]
  },
  {
   "cell_type": "code",
   "execution_count": 65,
   "id": "52384ea4",
   "metadata": {},
   "outputs": [
    {
     "name": "stdout",
     "output_type": "stream",
     "text": [
      "<class 'pandas.core.frame.DataFrame'>\n",
      "RangeIndex: 374 entries, 0 to 373\n",
      "Data columns (total 13 columns):\n",
      " #   Column                   Non-Null Count  Dtype  \n",
      "---  ------                   --------------  -----  \n",
      " 0   person_id                374 non-null    int64  \n",
      " 1   gender                   374 non-null    object \n",
      " 2   age                      374 non-null    int64  \n",
      " 3   occupation               374 non-null    object \n",
      " 4   sleep_duration           374 non-null    float64\n",
      " 5   quality_of_sleep         374 non-null    int64  \n",
      " 6   physical_activity_level  374 non-null    int64  \n",
      " 7   stress_level             374 non-null    int64  \n",
      " 8   bmi_category             374 non-null    object \n",
      " 9   blood_pressure           374 non-null    object \n",
      " 10  heart_rate               374 non-null    int64  \n",
      " 11  daily_steps              374 non-null    int64  \n",
      " 12  sleep_disorder           155 non-null    object \n",
      "dtypes: float64(1), int64(7), object(5)\n",
      "memory usage: 38.1+ KB\n"
     ]
    }
   ],
   "source": [
    "df.info()"
   ]
  },
  {
   "cell_type": "markdown",
   "id": "1ec15cb1",
   "metadata": {},
   "source": [
    "# Analysis Questions\n",
    "\n",
    "- Are higher levels of stress associated with lower duration of sleep?\n",
    "- Does an individual's physical activity level correlate with their quality of sleep?\n",
    "- Are there certain occupations that are linked to the presence of sleep disorders?\n",
    "- How does age affect the duration and quality of sleep?"
   ]
  },
  {
   "cell_type": "markdown",
   "id": "29127cd0",
   "metadata": {},
   "source": [
    "# Exploration: Stress vs Sleep Duration"
   ]
  },
  {
   "cell_type": "markdown",
   "id": "248905b8",
   "metadata": {},
   "source": [
    "Visualization: The relationship between stress level and sleep duration."
   ]
  },
  {
   "cell_type": "code",
   "execution_count": 66,
   "id": "288c0569",
   "metadata": {},
   "outputs": [
    {
     "data": {
      "image/png": "[encoded data removed]",
      "text/plain": [
       "<Figure size 640x480 with 1 Axes>"
      ]
     },
     "metadata": {},
     "output_type": "display_data"
    }
   ],
   "source": [
    "sns.scatterplot(data=df, x=\"stress_level\", y=\"sleep_duration\")\n",
    "plt.title(\"Stress Level vs Sleep Duration\")\n",
    "plt.xlabel(\"Stress Level\")\n",
    "plt.ylabel(\"Sleep Duration (hours)\")\n",
    "plt.show()"
   ]
  },
  {
   "cell_type": "markdown",
   "id": "7c24aaad",
   "metadata": {},
   "source": [
    "Analysis: Check for outliers with a box and whisker plot"
   ]
  },
  {
   "cell_type": "code",
   "execution_count": 67,
   "id": "a219ebe1",
   "metadata": {},
   "outputs": [
    {
     "data": {
      "image/png": "[encoded data removed]",
      "text/plain": [
       "<Figure size 640x480 with 1 Axes>"
      ]
     },
     "metadata": {},
     "output_type": "display_data"
    }
   ],
   "source": [
    "sns.boxplot(data=df, x=\"stress_level\", y=\"sleep_duration\")\n",
    "plt.title(\"Sleep Duration by Stress Level\")\n",
    "plt.xlabel(\"Stress Level\")\n",
    "plt.ylabel(\"Sleep Duration (hours)\")\n",
    "plt.show()"
   ]
  },
  {
   "cell_type": "markdown",
   "id": "44a60264",
   "metadata": {},
   "source": [
    "### Findings:\n",
    "- There appears to be a negative correlation between stress level and sleep duration.\n",
    "- As a user's stress level increases, their duration of sleep tends to decrease.\n",
    "- There are a few statistical outliers which fall outside of the whiskers of the box plot.\n",
    "    - Generally, there are no unusually high or low sleep durations recorded"
   ]
  },
  {
   "cell_type": "markdown",
   "id": "3e76de29",
   "metadata": {},
   "source": [
    "# Exploration: Age vs Sleep Duration/Quality"
   ]
  },
  {
   "cell_type": "markdown",
   "id": "847de171",
   "metadata": {},
   "source": [
    "Visualization: The relationship between age and sleep duration"
   ]
  },
  {
   "cell_type": "code",
   "execution_count": 68,
   "id": "09938187",
   "metadata": {},
   "outputs": [
    {
     "data": {
      "image/png": "[encoded data removed]",
      "text/plain": [
       "<Figure size 640x480 with 1 Axes>"
      ]
     },
     "metadata": {},
     "output_type": "display_data"
    }
   ],
   "source": [
    "sns.scatterplot(data=df, x=\"age\", y=\"sleep_duration\")\n",
    "plt.xlabel(\"Age (years)\")\n",
    "plt.ylabel(\"Sleep Duration (hours)\")\n",
    "plt.title(\"Age vs. Sleep Duration\")\n",
    "plt.show()"
   ]
  },
  {
   "cell_type": "markdown",
   "id": "d6fa64e1",
   "metadata": {},
   "source": [
    "Visualization: The impact of age on sleep quality"
   ]
  },
  {
   "cell_type": "code",
   "execution_count": 69,
   "id": "b2c1d7ef",
   "metadata": {},
   "outputs": [
    {
     "data": {
      "image/png": "[encoded data removed]",
      "text/plain": [
       "<Figure size 640x480 with 1 Axes>"
      ]
     },
     "metadata": {},
     "output_type": "display_data"
    }
   ],
   "source": [
    "sns.scatterplot(data=df, x=\"age\", y=\"quality_of_sleep\")\n",
    "plt.xlabel(\"Age (years)\")\n",
    "plt.ylabel(\"Sleep Quality\")\n",
    "plt.title(\"Age vs. Sleep Quality\")\n",
    "plt.show()"
   ]
  },
  {
   "cell_type": "code",
   "execution_count": null,
   "id": "ba97b1e4",
   "metadata": {},
   "outputs": [],
   "source": []
  },
  {
   "cell_type": "code",
   "execution_count": null,
   "id": "34dd117c",
   "metadata": {},
   "outputs": [],
   "source": []
  },
  {
   "cell_type": "markdown",
   "id": "004e0466",
   "metadata": {},
   "source": [
    "### Findings:\n",
    "- There appears to be no relevant correlation between age and sleep duration.\n",
    "    - As age increases, there is variation in the amount of sleep duration.\n",
    "- While not perfect, there is a slight positive correlation between age and sleep quality.\n",
    "    - Participants from ages 55-60 in particular had the highest sleep quality.\n"
   ]
  },
  {
   "cell_type": "markdown",
   "id": "cea17ecc",
   "metadata": {},
   "source": [
    "# Basic Stats\n",
    "Summarize quick statistics for numerical and categorical data"
   ]
  },
  {
   "cell_type": "code",
   "execution_count": 70,
   "id": "a749e932",
   "metadata": {},
   "outputs": [
    {
     "data": {
      "text/html": [
       "<div>\n",
       "<style scoped>\n",
       "    .dataframe tbody tr th:only-of-type {\n",
       "        vertical-align: middle;\n",
       "    }\n",
       "\n",
       "    .dataframe tbody tr th {\n",
       "        vertical-align: top;\n",
       "    }\n",
       "\n",
       "    .dataframe thead th {\n",
       "        text-align: right;\n",
       "    }\n",
       "</style>\n",
       "<table border=\"1\" class=\"dataframe\">\n",
       "  <thead>\n",
       "    <tr style=\"text-align: right;\">\n",
       "      <th></th>\n",
       "      <th>person_id</th>\n",
       "      <th>gender</th>\n",
       "      <th>age</th>\n",
       "      <th>occupation</th>\n",
       "      <th>sleep_duration</th>\n",
       "      <th>quality_of_sleep</th>\n",
       "      <th>physical_activity_level</th>\n",
       "      <th>stress_level</th>\n",
       "      <th>bmi_category</th>\n",
       "      <th>blood_pressure</th>\n",
       "      <th>heart_rate</th>\n",
       "      <th>daily_steps</th>\n",
       "      <th>sleep_disorder</th>\n",
       "    </tr>\n",
       "  </thead>\n",
       "  <tbody>\n",
       "    <tr>\n",
       "      <th>count</th>\n",
       "      <td>374.000000</td>\n",
       "      <td>374</td>\n",
       "      <td>374.000000</td>\n",
       "      <td>374</td>\n",
       "      <td>374.000000</td>\n",
       "      <td>374.000000</td>\n",
       "      <td>374.000000</td>\n",
       "      <td>374.000000</td>\n",
       "      <td>374</td>\n",
       "      <td>374</td>\n",
       "      <td>374.000000</td>\n",
       "      <td>374.000000</td>\n",
       "      <td>155</td>\n",
       "    </tr>\n",
       "    <tr>\n",
       "      <th>unique</th>\n",
       "      <td>NaN</td>\n",
       "      <td>2</td>\n",
       "      <td>NaN</td>\n",
       "      <td>11</td>\n",
       "      <td>NaN</td>\n",
       "      <td>NaN</td>\n",
       "      <td>NaN</td>\n",
       "      <td>NaN</td>\n",
       "      <td>4</td>\n",
       "      <td>25</td>\n",
       "      <td>NaN</td>\n",
       "      <td>NaN</td>\n",
       "      <td>2</td>\n",
       "    </tr>\n",
       "    <tr>\n",
       "      <th>top</th>\n",
       "      <td>NaN</td>\n",
       "      <td>Male</td>\n",
       "      <td>NaN</td>\n",
       "      <td>Nurse</td>\n",
       "      <td>NaN</td>\n",
       "      <td>NaN</td>\n",
       "      <td>NaN</td>\n",
       "      <td>NaN</td>\n",
       "      <td>Normal</td>\n",
       "      <td>130/85</td>\n",
       "      <td>NaN</td>\n",
       "      <td>NaN</td>\n",
       "      <td>Sleep Apnea</td>\n",
       "    </tr>\n",
       "    <tr>\n",
       "      <th>freq</th>\n",
       "      <td>NaN</td>\n",
       "      <td>189</td>\n",
       "      <td>NaN</td>\n",
       "      <td>73</td>\n",
       "      <td>NaN</td>\n",
       "      <td>NaN</td>\n",
       "      <td>NaN</td>\n",
       "      <td>NaN</td>\n",
       "      <td>195</td>\n",
       "      <td>99</td>\n",
       "      <td>NaN</td>\n",
       "      <td>NaN</td>\n",
       "      <td>78</td>\n",
       "    </tr>\n",
       "    <tr>\n",
       "      <th>mean</th>\n",
       "      <td>187.500000</td>\n",
       "      <td>NaN</td>\n",
       "      <td>42.184492</td>\n",
       "      <td>NaN</td>\n",
       "      <td>7.132086</td>\n",
       "      <td>7.312834</td>\n",
       "      <td>59.171123</td>\n",
       "      <td>5.385027</td>\n",
       "      <td>NaN</td>\n",
       "      <td>NaN</td>\n",
       "      <td>70.165775</td>\n",
       "      <td>6816.844920</td>\n",
       "      <td>NaN</td>\n",
       "    </tr>\n",
       "    <tr>\n",
       "      <th>std</th>\n",
       "      <td>108.108742</td>\n",
       "      <td>NaN</td>\n",
       "      <td>8.673133</td>\n",
       "      <td>NaN</td>\n",
       "      <td>0.795657</td>\n",
       "      <td>1.196956</td>\n",
       "      <td>20.830804</td>\n",
       "      <td>1.774526</td>\n",
       "      <td>NaN</td>\n",
       "      <td>NaN</td>\n",
       "      <td>4.135676</td>\n",
       "      <td>1617.915679</td>\n",
       "      <td>NaN</td>\n",
       "    </tr>\n",
       "    <tr>\n",
       "      <th>min</th>\n",
       "      <td>1.000000</td>\n",
       "      <td>NaN</td>\n",
       "      <td>27.000000</td>\n",
       "      <td>NaN</td>\n",
       "      <td>5.800000</td>\n",
       "      <td>4.000000</td>\n",
       "      <td>30.000000</td>\n",
       "      <td>3.000000</td>\n",
       "      <td>NaN</td>\n",
       "      <td>NaN</td>\n",
       "      <td>65.000000</td>\n",
       "      <td>3000.000000</td>\n",
       "      <td>NaN</td>\n",
       "    </tr>\n",
       "    <tr>\n",
       "      <th>25%</th>\n",
       "      <td>94.250000</td>\n",
       "      <td>NaN</td>\n",
       "      <td>35.250000</td>\n",
       "      <td>NaN</td>\n",
       "      <td>6.400000</td>\n",
       "      <td>6.000000</td>\n",
       "      <td>45.000000</td>\n",
       "      <td>4.000000</td>\n",
       "      <td>NaN</td>\n",
       "      <td>NaN</td>\n",
       "      <td>68.000000</td>\n",
       "      <td>5600.000000</td>\n",
       "      <td>NaN</td>\n",
       "    </tr>\n",
       "    <tr>\n",
       "      <th>50%</th>\n",
       "      <td>187.500000</td>\n",
       "      <td>NaN</td>\n",
       "      <td>43.000000</td>\n",
       "      <td>NaN</td>\n",
       "      <td>7.200000</td>\n",
       "      <td>7.000000</td>\n",
       "      <td>60.000000</td>\n",
       "      <td>5.000000</td>\n",
       "      <td>NaN</td>\n",
       "      <td>NaN</td>\n",
       "      <td>70.000000</td>\n",
       "      <td>7000.000000</td>\n",
       "      <td>NaN</td>\n",
       "    </tr>\n",
       "    <tr>\n",
       "      <th>75%</th>\n",
       "      <td>280.750000</td>\n",
       "      <td>NaN</td>\n",
       "      <td>50.000000</td>\n",
       "      <td>NaN</td>\n",
       "      <td>7.800000</td>\n",
       "      <td>8.000000</td>\n",
       "      <td>75.000000</td>\n",
       "      <td>7.000000</td>\n",
       "      <td>NaN</td>\n",
       "      <td>NaN</td>\n",
       "      <td>72.000000</td>\n",
       "      <td>8000.000000</td>\n",
       "      <td>NaN</td>\n",
       "    </tr>\n",
       "    <tr>\n",
       "      <th>max</th>\n",
       "      <td>374.000000</td>\n",
       "      <td>NaN</td>\n",
       "      <td>59.000000</td>\n",
       "      <td>NaN</td>\n",
       "      <td>8.500000</td>\n",
       "      <td>9.000000</td>\n",
       "      <td>90.000000</td>\n",
       "      <td>8.000000</td>\n",
       "      <td>NaN</td>\n",
       "      <td>NaN</td>\n",
       "      <td>86.000000</td>\n",
       "      <td>10000.000000</td>\n",
       "      <td>NaN</td>\n",
       "    </tr>\n",
       "  </tbody>\n",
       "</table>\n",
       "</div>"
      ],
      "text/plain": [
       "         person_id gender         age occupation  sleep_duration  \\\n",
       "count   374.000000    374  374.000000        374      374.000000   \n",
       "unique         NaN      2         NaN         11             NaN   \n",
       "top            NaN   Male         NaN      Nurse             NaN   \n",
       "freq           NaN    189         NaN         73             NaN   \n",
       "mean    187.500000    NaN   42.184492        NaN        7.132086   \n",
       "std     108.108742    NaN    8.673133        NaN        0.795657   \n",
       "min       1.000000    NaN   27.000000        NaN        5.800000   \n",
       "25%      94.250000    NaN   35.250000        NaN        6.400000   \n",
       "50%     187.500000    NaN   43.000000        NaN        7.200000   \n",
       "75%     280.750000    NaN   50.000000        NaN        7.800000   \n",
       "max     374.000000    NaN   59.000000        NaN        8.500000   \n",
       "\n",
       "        quality_of_sleep  physical_activity_level  stress_level bmi_category  \\\n",
       "count         374.000000               374.000000    374.000000          374   \n",
       "unique               NaN                      NaN           NaN            4   \n",
       "top                  NaN                      NaN           NaN       Normal   \n",
       "freq                 NaN                      NaN           NaN          195   \n",
       "mean            7.312834                59.171123      5.385027          NaN   \n",
       "std             1.196956                20.830804      1.774526          NaN   \n",
       "min             4.000000                30.000000      3.000000          NaN   \n",
       "25%             6.000000                45.000000      4.000000          NaN   \n",
       "50%             7.000000                60.000000      5.000000          NaN   \n",
       "75%             8.000000                75.000000      7.000000          NaN   \n",
       "max             9.000000                90.000000      8.000000          NaN   \n",
       "\n",
       "       blood_pressure  heart_rate   daily_steps sleep_disorder  \n",
       "count             374  374.000000    374.000000            155  \n",
       "unique             25         NaN           NaN              2  \n",
       "top            130/85         NaN           NaN    Sleep Apnea  \n",
       "freq               99         NaN           NaN             78  \n",
       "mean              NaN   70.165775   6816.844920            NaN  \n",
       "std               NaN    4.135676   1617.915679            NaN  \n",
       "min               NaN   65.000000   3000.000000            NaN  \n",
       "25%               NaN   68.000000   5600.000000            NaN  \n",
       "50%               NaN   70.000000   7000.000000            NaN  \n",
       "75%               NaN   72.000000   8000.000000            NaN  \n",
       "max               NaN   86.000000  10000.000000            NaN  "
      ]
     },
     "execution_count": 70,
     "metadata": {},
     "output_type": "execute_result"
    }
   ],
   "source": [
    "df.describe(include=\"all\")"
   ]
  },
  {
   "cell_type": "markdown",
   "id": "d5344ff2",
   "metadata": {},
   "source": [
    "# Missing Values?\n",
    "Only nullable column is 'Sleep Disorder' if user has no disorders\n"
   ]
  },
  {
   "cell_type": "code",
   "execution_count": 71,
   "id": "3f049b3e",
   "metadata": {},
   "outputs": [
    {
     "data": {
      "text/plain": [
       "person_id                    0\n",
       "gender                       0\n",
       "age                          0\n",
       "occupation                   0\n",
       "sleep_duration               0\n",
       "quality_of_sleep             0\n",
       "physical_activity_level      0\n",
       "stress_level                 0\n",
       "bmi_category                 0\n",
       "blood_pressure               0\n",
       "heart_rate                   0\n",
       "daily_steps                  0\n",
       "sleep_disorder             219\n",
       "dtype: int64"
      ]
     },
     "execution_count": 71,
     "metadata": {},
     "output_type": "execute_result"
    }
   ],
   "source": [
    "df.isnull().sum()"
   ]
  }
 ],
 "metadata": {
  "kernelspec": {
   "display_name": "venv (3.12.10)",
   "language": "python",
   "name": "python3"
  },
  "language_info": {
   "codemirror_mode": {
    "name": "ipython",
    "version": 3
   },
   "file_extension": ".py",
   "mimetype": "text/x-python",
   "name": "python",
   "nbconvert_exporter": "python",
   "pygments_lexer": "ipython3",
   "version": "3.12.10"
  }
 },
 "nbformat": 4,
 "nbformat_minor": 5
}
