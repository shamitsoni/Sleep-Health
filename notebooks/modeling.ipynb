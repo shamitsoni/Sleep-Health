{
 "cells": [
  {
   "cell_type": "markdown",
   "id": "b2ce87a2",
   "metadata": {},
   "source": [
    "# Machine Learning Model"
   ]
  },
  {
   "cell_type": "markdown",
   "id": "be6503a7",
   "metadata": {},
   "source": [
    "80% train, 20% test model for sleep quality"
   ]
  },
  {
   "cell_type": "code",
   "execution_count": 12,
   "id": "ebfd4dea",
   "metadata": {},
   "outputs": [
    {
     "name": "stdout",
     "output_type": "stream",
     "text": [
      "MSE: 0.02861466666666665\n",
      "R2: 0.9810325830780109\n",
      "     Measured  Predicted\n",
      "329         9        9.0\n",
      "33          6        6.0\n",
      "15          6        6.0\n",
      "325         9        9.0\n",
      "57          6        6.0\n"
     ]
    }
   ],
   "source": [
    "import pandas as pd\n",
    "from sklearn.model_selection import train_test_split\n",
    "from sklearn.ensemble import RandomForestRegressor\n",
    "from sklearn.metrics import mean_squared_error, r2_score\n",
    "\n",
    "df = pd.read_csv(\"../data/sleep_health_clean.csv\") \n",
    "\n",
    "# Drop sleep quality --> target variable \n",
    "X = df.drop('quality_of_sleep', axis=1)\n",
    "\n",
    "# Drop all non-numerical variables\n",
    "X = pd.get_dummies(X, drop_first=True)\n",
    "\n",
    "y = df['quality_of_sleep']\n",
    "\n",
    "# Use 20% of the data for test\n",
    "X_train, X_test, y_train, y_test = train_test_split(X, y, test_size=0.2, random_state=42)\n",
    "\n",
    "# Regression model\n",
    "model = RandomForestRegressor()\n",
    "model.fit(X_train, y_train)\n",
    "y_pred = model.predict(X_test)\n",
    "\n",
    "print(\"MSE:\", mean_squared_error(y_test, y_pred))\n",
    "print(\"R2:\", r2_score(y_test, y_pred))\n",
    "results = pd.DataFrame({'Measured': y_test, 'Predicted': y_pred})\n",
    "print(results.head())"
   ]
  }
 ],
 "metadata": {
  "kernelspec": {
   "display_name": "venv (3.12.10)",
   "language": "python",
   "name": "python3"
  },
  "language_info": {
   "codemirror_mode": {
    "name": "ipython",
    "version": 3
   },
   "file_extension": ".py",
   "mimetype": "text/x-python",
   "name": "python",
   "nbconvert_exporter": "python",
   "pygments_lexer": "ipython3",
   "version": "3.12.10"
  }
 },
 "nbformat": 4,
 "nbformat_minor": 5
}
