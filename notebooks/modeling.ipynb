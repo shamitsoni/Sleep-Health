{
 "cells": [
  {
   "cell_type": "markdown",
   "id": "b2ce87a2",
   "metadata": {},
   "source": [
    "# Machine Learning Model"
   ]
  },
  {
   "cell_type": "markdown",
   "id": "be6503a7",
   "metadata": {},
   "source": [
    "### 80% train, 20% test model for sleep quality"
   ]
  },
  {
   "cell_type": "code",
   "execution_count": 2,
   "id": "ebfd4dea",
   "metadata": {},
   "outputs": [],
   "source": [
    "import pandas as pd\n",
    "from sklearn.model_selection import train_test_split\n",
    "from sklearn.metrics import mean_squared_error, r2_score\n",
    "\n",
    "df = pd.read_csv(\"../data/sleep_health_clean.csv\") \n",
    "\n",
    "# Drop sleep quality --> target variable \n",
    "X = df.drop('quality_of_sleep', axis=1)\n",
    "\n",
    "# Drop all non-numerical variables\n",
    "X = pd.get_dummies(X, drop_first=True)\n",
    "\n",
    "y = df['quality_of_sleep']\n",
    "\n",
    "# Use 20% of the data for test\n",
    "X_train, X_test, y_train, y_test = train_test_split(X, y, test_size=0.2, random_state=42)"
   ]
  },
  {
   "cell_type": "markdown",
   "id": "e9252bc9",
   "metadata": {},
   "source": [
    "### Random Forest Regression"
   ]
  },
  {
   "cell_type": "code",
   "execution_count": 3,
   "id": "6d9e8e41",
   "metadata": {},
   "outputs": [
    {
     "name": "stdout",
     "output_type": "stream",
     "text": [
      "MSE: 0.034208\n",
      "R2: 0.9773250058920575\n",
      "     Measured  Predicted\n",
      "329         9        9.0\n",
      "33          6        6.0\n",
      "15          6        6.0\n",
      "325         9        9.0\n",
      "57          6        6.0\n"
     ]
    }
   ],
   "source": [
    "from sklearn.ensemble import RandomForestRegressor\n",
    "\n",
    "model = RandomForestRegressor()\n",
    "model.fit(X_train, y_train)\n",
    "y_pred = model.predict(X_test)\n",
    "\n",
    "print(\"MSE:\", mean_squared_error(y_test, y_pred))\n",
    "print(\"R2:\", r2_score(y_test, y_pred))\n",
    "results = pd.DataFrame({'Measured': y_test, 'Predicted': y_pred})\n",
    "print(results.head())"
   ]
  },
  {
   "cell_type": "markdown",
   "id": "2c450c54",
   "metadata": {},
   "source": [
    "### Linear Regression"
   ]
  },
  {
   "cell_type": "code",
   "execution_count": 4,
   "id": "13030892",
   "metadata": {},
   "outputs": [
    {
     "name": "stdout",
     "output_type": "stream",
     "text": [
      "MSE: 0.09672473995146337\n",
      "R2: 0.9358853803644849\n",
      "     Measured  Predicted\n",
      "329         9   9.039193\n",
      "33          6   6.026811\n",
      "15          6   5.901318\n",
      "325         9   9.038202\n",
      "57          6   6.001241\n"
     ]
    }
   ],
   "source": [
    "from sklearn.linear_model import LinearRegression\n",
    "\n",
    "lr = LinearRegression()\n",
    "lr.fit(X_train, y_train)\n",
    "y_pred_lr = lr.predict(X_test)\n",
    "\n",
    "print(\"MSE:\", mean_squared_error(y_test, y_pred_lr))\n",
    "print(\"R2:\", r2_score(y_test, y_pred_lr))\n",
    "results = pd.DataFrame({'Measured': y_test, 'Predicted': y_pred_lr})\n",
    "print(results.head())"
   ]
  },
  {
   "cell_type": "markdown",
   "id": "58fd1c25",
   "metadata": {},
   "source": [
    "# Compare Models"
   ]
  },
  {
   "cell_type": "code",
   "execution_count": 5,
   "id": "b7630ff5",
   "metadata": {},
   "outputs": [
    {
     "name": "stdout",
     "output_type": "stream",
     "text": [
      "               Model       MSE        R2\n",
      "0      Random Forest  0.033015  0.978116\n",
      "1  Gradient Boosting  0.014535  0.990365\n",
      "2      Decision Tree  0.026667  0.982324\n",
      "3  Linear Regression  0.096725  0.935885\n"
     ]
    }
   ],
   "source": [
    "from sklearn.ensemble import RandomForestRegressor, GradientBoostingRegressor\n",
    "from sklearn.linear_model import LinearRegression\n",
    "from sklearn.tree import DecisionTreeRegressor\n",
    "from sklearn.metrics import mean_squared_error, r2_score\n",
    "\n",
    "models = {\n",
    "    \"Random Forest\": RandomForestRegressor(random_state=42),\n",
    "    \"Gradient Boosting\": GradientBoostingRegressor(random_state=42),\n",
    "    \"Decision Tree\": DecisionTreeRegressor(random_state=42),\n",
    "    \"Linear Regression\": LinearRegression()\n",
    "}\n",
    "\n",
    "results = []\n",
    "\n",
    "for name, model in models.items():\n",
    "    model.fit(X_train, y_train)\n",
    "    y_pred = model.predict(X_test)\n",
    "    mse = mean_squared_error(y_test, y_pred)\n",
    "    r2 = r2_score(y_test, y_pred)\n",
    "    results.append({\"Model\": name, \"MSE\": mse, \"R2\": r2})\n",
    "\n",
    "results_df = pd.DataFrame(results)\n",
    "print(results_df)"
   ]
  },
  {
   "cell_type": "markdown",
   "id": "7de511c7",
   "metadata": {},
   "source": [
    "### Findings:\n",
    "- All four regression models have great R2 and MSE values, showing that they model the data and predict the target effectively\n",
    "- Of the four models, linear regression seems to be the worst predictor, with the lowest R2 and the highest MSE values.\n",
    "- The best model for predicting sleep quality is gradient boosting, with the highest R2 and the lowest MSE values.\n",
    "    - Decision tree and random forest closely follow behind gradient boosting with slightly lower R2 and higher MSE values."
   ]
  }
 ],
 "metadata": {
  "kernelspec": {
   "display_name": "venv (3.12.10)",
   "language": "python",
   "name": "python3"
  },
  "language_info": {
   "codemirror_mode": {
    "name": "ipython",
    "version": 3
   },
   "file_extension": ".py",
   "mimetype": "text/x-python",
   "name": "python",
   "nbconvert_exporter": "python",
   "pygments_lexer": "ipython3",
   "version": "3.12.10"
  }
 },
 "nbformat": 4,
 "nbformat_minor": 5
}
